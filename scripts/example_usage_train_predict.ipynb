{
 "cells": [
  {
   "cell_type": "code",
   "execution_count": 4,
   "metadata": {
    "collapsed": true,
    "pycharm": {
     "is_executing": false
    }
   },
   "outputs": [],
   "source": [
    "from RT_prediction.RT_prediction import *\n",
    "import matplotlib.pyplot as plt\n",
    "import numpy as np"
   ]
  },
  {
   "cell_type": "code",
   "execution_count": 5,
   "outputs": [
    {
     "name": "stdout",
     "text": [
      "Unnamed: 0 : non-real valued descriptor\n",
      "Name : non-real valued descriptor\n",
      "Unnamed: 0 : non-real valued descriptor\n",
      "data[i, 1] : non-real valued descriptor\n",
      "117 ['SPC.5', 'MDEC.12', 'ATSp1', 'SP.7', 'VC.3', 'VCH.5', 'C2SP3', 'SC.6', 'SCH.3', 'SPC.6', 'ATSp4', 'VCH.7', 'C2SP2', 'C1SP2', 'VAdjMat', 'ATSm5', 'fragC', 'Zagreb', 'SP.6', 'WPOL', 'MDEN.22', 'C3SP2', 'MDEC.22', 'VC.5', 'nHBDon', 'MW', 'SC.5', 'SCH.4', 'SC.3', 'VP.4', 'nAtomLAC', 'LipinskiFailures', 'nAromRings', 'C3SP3', 'ATSp5', 'ECCEN', 'VP.6', 'SPC.4', 'nRings3', 'VCH.4', 'nAcid', 'MDEO.12', 'VPC.4', 'MDEC.24', 'SCH.5', 'MDEN.23', 'ATSp2', 'nRingBlocks', 'WTPT.1', 'VP.3', 'nAtomP', 'topoShape', 'MDEO.11', 'SP.0', 'AMR', 'SP.1', 'nRings6', 'VC.4', 'nHBAcc', 'ALogp2', 'WTPT.3', 'VC.6', 'SCH.7', 'XLogP', 'ATSm3', 'PetitjeanNumber', 'SCH.6', 'TopoPSA', 'WTPT.5', 'SP.4', 'VPC.6', 'SP.2', 'nAromBond', 'VP.5', 'ATSm1', 'naAromAtom', 'MDEC.23', 'VP.0', 'MDEN.33', 'ALogP', 'VP.2', 'nRotB', 'nAtomLC', 'WPATH', 'MLogP', 'VP.7', 'MDEC.33', 'SC.4', 'WTPT.4', 'VP.1', 'nBase', 'MDEC.44', 'nB', 'ATSm4', 'VPC.5', 'MDEN.12', 'MDEN.13', 'SP.5', 'SP.3', 'ATSp3', 'MDEC.13', 'bpol', 'FMF', 'C1SP3', 'apol', 'MDEC.34', 'VCH.3', 'nRings5', 'MDEC.11', 'tpsaEfficiency', 'MDEN.11', 'nAromBlocks', 'nSmallRings', 'ATSm2', 'MDEC.14', 'VCH.6', 'MDEO.22']\n",
      "0.6523445877323959\n"
     ],
     "output_type": "stream"
    }
   ],
   "source": [
    "#define predictor object, n_jobs sets the number of parralel processes to use\n",
    "RT_pred = RT_predictor(n_jobs=4)\n",
    "\n",
    "#get training data from pHILIC. This is molecular descriptors and RTs\n",
    "training_data = RT_pred.get_training_data_pHILIC_IROA()\n",
    "\n",
    "#get descriptors that can be used for training data\n",
    "goodCols_train = RT_pred.get_good_desc(training_data)\n",
    "\n",
    "#these properties are computed by running the R script compute_molecular_properites.R. \n",
    "pred_props = pd.read_csv(\"../data/example_molecular_properties.csv\")\n",
    "goodCols_pred = RT_pred.get_good_desc(pred_props)\n",
    "preds = list(set(goodCols_train).intersection(set(goodCols_pred)))\n",
    "print(len(preds),preds)\n",
    "\n",
    "#train model and print cv r2\n",
    "nBest,mBest,max_depth = (100,51,200)\n",
    "print(RT_pred.crossValPrediction(training_data[preds].to_numpy(),training_data[\"RT\"].values,nBest,mBest,max_depth))\n",
    "RT_pred.fit(training_data[preds].to_numpy(),training_data[\"RT\"].values,nBest,mBest,max_depth)\n"
   ],
   "metadata": {
    "collapsed": false,
    "pycharm": {
     "name": "#%%\n",
     "is_executing": false
    }
   }
  },
  {
   "cell_type": "code",
   "execution_count": 7,
   "outputs": [],
   "source": [
    "#predict RTs\n",
    "rt_predicted = RT_pred.predict(pred_props[preds].to_numpy())\n",
    "\n",
    "#get cpd names\n",
    "names = pred_props[pred_props.columns.values[-1]].values\n",
    "\n",
    "#output RTs\n",
    "pd.DataFrame.from_dict({n:{\"name\":n,\"RT\":rt} for n,rt in zip(names,rt_predicted)},orient=\"index\").to_csv(\"../data/example_predicted_rts.csv\",index=False)"
   ],
   "metadata": {
    "collapsed": false,
    "pycharm": {
     "name": "#%%\n",
     "is_executing": false
    }
   }
  },
  {
   "cell_type": "code",
   "execution_count": null,
   "outputs": [],
   "source": [
    "\n"
   ],
   "metadata": {
    "collapsed": false,
    "pycharm": {
     "name": "#%%\n"
    }
   }
  }
 ],
 "metadata": {
  "kernelspec": {
   "display_name": "Python 3",
   "language": "python",
   "name": "python3"
  },
  "language_info": {
   "codemirror_mode": {
    "name": "ipython",
    "version": 2
   },
   "file_extension": ".py",
   "mimetype": "text/x-python",
   "name": "python",
   "nbconvert_exporter": "python",
   "pygments_lexer": "ipython2",
   "version": "2.7.6"
  },
  "pycharm": {
   "stem_cell": {
    "cell_type": "raw",
    "source": [],
    "metadata": {
     "collapsed": false
    }
   }
  }
 },
 "nbformat": 4,
 "nbformat_minor": 0
}