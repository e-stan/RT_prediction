{
 "cells": [
  {
   "cell_type": "code",
   "execution_count": 6,
   "metadata": {
    "pycharm": {
     "is_executing": false
    }
   },
   "outputs": [],
   "source": [
    "from RT_prediction.RT_prediction import *\n",
    "import matplotlib.pyplot as plt\n",
    "import numpy as np\n",
    "import pandas as pd"
   ]
  },
  {
   "cell_type": "code",
   "execution_count": 7,
   "metadata": {
    "pycharm": {
     "is_executing": false,
     "name": "#%%\n"
    }
   },
   "outputs": [
    {
     "name": "stdout",
     "output_type": "stream",
     "text": [
      "Unnamed: 0 : non-real valued descriptor\n",
      "Name : non-real valued descriptor\n"
     ]
    }
   ],
   "source": [
    "#define predictor object, n_jobs sets the number of parralel processes to use\n",
    "RT_pred = RT_predictor(n_jobs=4)\n",
    "\n",
    "#get training data from pHILIC. This is molecular descriptors and RTs\n",
    "training_data = RT_pred.get_training_data_pHILIC_IROA()\n",
    "\n",
    "#get descriptors that can be used for training data\n",
    "goodCols_train = RT_pred.get_good_desc(training_data)\n"
   ]
  },
  {
   "cell_type": "code",
   "execution_count": 8,
   "metadata": {},
   "outputs": [
    {
     "name": "stdout",
     "output_type": "stream",
     "text": [
      "                                          SMILES\n",
      "name                                            \n",
      "cis-aconitic acid  C(/C(=C/C(=O)O)/C(=O)O)C(=O)O\n",
      "citric acid         C(C(=O)O)C(CC(=O)O)(C(=O)O)O\n",
      "P5C                         C1C[C@H](N=C1)C(=O)O\n"
     ]
    },
    {
     "data": {
      "text/html": [
       "<div>\n",
       "<style scoped>\n",
       "    .dataframe tbody tr th:only-of-type {\n",
       "        vertical-align: middle;\n",
       "    }\n",
       "\n",
       "    .dataframe tbody tr th {\n",
       "        vertical-align: top;\n",
       "    }\n",
       "\n",
       "    .dataframe thead th {\n",
       "        text-align: right;\n",
       "    }\n",
       "</style>\n",
       "<table border=\"1\" class=\"dataframe\">\n",
       "  <thead>\n",
       "    <tr style=\"text-align: right;\">\n",
       "      <th></th>\n",
       "      <th>Unnamed: 0</th>\n",
       "      <th>Wlambda1.unity</th>\n",
       "      <th>Wlambda2.unity</th>\n",
       "      <th>Wlambda3.unity</th>\n",
       "      <th>Wnu1.unity</th>\n",
       "      <th>Wnu2.unity</th>\n",
       "      <th>Wgamma1.unity</th>\n",
       "      <th>Wgamma2.unity</th>\n",
       "      <th>Wgamma3.unity</th>\n",
       "      <th>Weta1.unity</th>\n",
       "      <th>...</th>\n",
       "      <th>GRAV.1</th>\n",
       "      <th>GRAV.2</th>\n",
       "      <th>GRAV.3</th>\n",
       "      <th>GRAVH.1</th>\n",
       "      <th>GRAVH.2</th>\n",
       "      <th>GRAVH.3</th>\n",
       "      <th>GRAV.4</th>\n",
       "      <th>GRAV.5</th>\n",
       "      <th>GRAV.6</th>\n",
       "      <th>data[i, 1]</th>\n",
       "    </tr>\n",
       "    <tr>\n",
       "      <th>data[i, 1]</th>\n",
       "      <th></th>\n",
       "      <th></th>\n",
       "      <th></th>\n",
       "      <th></th>\n",
       "      <th></th>\n",
       "      <th></th>\n",
       "      <th></th>\n",
       "      <th></th>\n",
       "      <th></th>\n",
       "      <th></th>\n",
       "      <th></th>\n",
       "      <th></th>\n",
       "      <th></th>\n",
       "      <th></th>\n",
       "      <th></th>\n",
       "      <th></th>\n",
       "      <th></th>\n",
       "      <th></th>\n",
       "      <th></th>\n",
       "      <th></th>\n",
       "      <th></th>\n",
       "    </tr>\n",
       "  </thead>\n",
       "  <tbody>\n",
       "    <tr>\n",
       "      <th>cis-aconitic acid</th>\n",
       "      <td>C(/C(=C/C(=O)O)/C(=O)O)C(=O)O</td>\n",
       "      <td>NaN</td>\n",
       "      <td>NaN</td>\n",
       "      <td>NaN</td>\n",
       "      <td>NaN</td>\n",
       "      <td>NaN</td>\n",
       "      <td>NaN</td>\n",
       "      <td>NaN</td>\n",
       "      <td>NaN</td>\n",
       "      <td>NaN</td>\n",
       "      <td>...</td>\n",
       "      <td>NaN</td>\n",
       "      <td>NaN</td>\n",
       "      <td>NaN</td>\n",
       "      <td>NaN</td>\n",
       "      <td>NaN</td>\n",
       "      <td>NaN</td>\n",
       "      <td>NaN</td>\n",
       "      <td>NaN</td>\n",
       "      <td>NaN</td>\n",
       "      <td>cis-aconitic acid</td>\n",
       "    </tr>\n",
       "    <tr>\n",
       "      <th>citric acid</th>\n",
       "      <td>C(C(=O)O)C(CC(=O)O)(C(=O)O)O</td>\n",
       "      <td>NaN</td>\n",
       "      <td>NaN</td>\n",
       "      <td>NaN</td>\n",
       "      <td>NaN</td>\n",
       "      <td>NaN</td>\n",
       "      <td>NaN</td>\n",
       "      <td>NaN</td>\n",
       "      <td>NaN</td>\n",
       "      <td>NaN</td>\n",
       "      <td>...</td>\n",
       "      <td>NaN</td>\n",
       "      <td>NaN</td>\n",
       "      <td>NaN</td>\n",
       "      <td>NaN</td>\n",
       "      <td>NaN</td>\n",
       "      <td>NaN</td>\n",
       "      <td>NaN</td>\n",
       "      <td>NaN</td>\n",
       "      <td>NaN</td>\n",
       "      <td>citric acid</td>\n",
       "    </tr>\n",
       "    <tr>\n",
       "      <th>P5C</th>\n",
       "      <td>C1C[C@H](N=C1)C(=O)O</td>\n",
       "      <td>NaN</td>\n",
       "      <td>NaN</td>\n",
       "      <td>NaN</td>\n",
       "      <td>NaN</td>\n",
       "      <td>NaN</td>\n",
       "      <td>NaN</td>\n",
       "      <td>NaN</td>\n",
       "      <td>NaN</td>\n",
       "      <td>NaN</td>\n",
       "      <td>...</td>\n",
       "      <td>NaN</td>\n",
       "      <td>NaN</td>\n",
       "      <td>NaN</td>\n",
       "      <td>NaN</td>\n",
       "      <td>NaN</td>\n",
       "      <td>NaN</td>\n",
       "      <td>NaN</td>\n",
       "      <td>NaN</td>\n",
       "      <td>NaN</td>\n",
       "      <td>P5C</td>\n",
       "    </tr>\n",
       "  </tbody>\n",
       "</table>\n",
       "<p>3 rows × 289 columns</p>\n",
       "</div>"
      ],
      "text/plain": [
       "                                      Unnamed: 0  Wlambda1.unity  \\\n",
       "data[i, 1]                                                         \n",
       "cis-aconitic acid  C(/C(=C/C(=O)O)/C(=O)O)C(=O)O             NaN   \n",
       "citric acid         C(C(=O)O)C(CC(=O)O)(C(=O)O)O             NaN   \n",
       "P5C                         C1C[C@H](N=C1)C(=O)O             NaN   \n",
       "\n",
       "                   Wlambda2.unity  Wlambda3.unity  Wnu1.unity  Wnu2.unity  \\\n",
       "data[i, 1]                                                                  \n",
       "cis-aconitic acid             NaN             NaN         NaN         NaN   \n",
       "citric acid                   NaN             NaN         NaN         NaN   \n",
       "P5C                           NaN             NaN         NaN         NaN   \n",
       "\n",
       "                   Wgamma1.unity  Wgamma2.unity  Wgamma3.unity  Weta1.unity  \\\n",
       "data[i, 1]                                                                    \n",
       "cis-aconitic acid            NaN            NaN            NaN          NaN   \n",
       "citric acid                  NaN            NaN            NaN          NaN   \n",
       "P5C                          NaN            NaN            NaN          NaN   \n",
       "\n",
       "                   ...  GRAV.1  GRAV.2  GRAV.3  GRAVH.1  GRAVH.2  GRAVH.3  \\\n",
       "data[i, 1]         ...                                                      \n",
       "cis-aconitic acid  ...     NaN     NaN     NaN      NaN      NaN      NaN   \n",
       "citric acid        ...     NaN     NaN     NaN      NaN      NaN      NaN   \n",
       "P5C                ...     NaN     NaN     NaN      NaN      NaN      NaN   \n",
       "\n",
       "                   GRAV.4  GRAV.5  GRAV.6         data[i, 1]  \n",
       "data[i, 1]                                                    \n",
       "cis-aconitic acid     NaN     NaN     NaN  cis-aconitic acid  \n",
       "citric acid           NaN     NaN     NaN        citric acid  \n",
       "P5C                   NaN     NaN     NaN                P5C  \n",
       "\n",
       "[3 rows x 289 columns]"
      ]
     },
     "execution_count": 8,
     "metadata": {},
     "output_type": "execute_result"
    }
   ],
   "source": [
    "toPredict = pd.read_csv(\"../data/example_smiles.csv\",index_col=0)\n",
    "print(toPredict)\n",
    "pred_props = RT_pred.computeMolecularDescriptors(toPredict)\n",
    "pred_props = pred_props.set_index(pred_props[pred_props.columns.values[-1]])\n",
    "\n",
    "pred_props"
   ]
  },
  {
   "cell_type": "code",
   "execution_count": 9,
   "metadata": {},
   "outputs": [
    {
     "name": "stdout",
     "output_type": "stream",
     "text": [
      "Unnamed: 0 : non-real valued descriptor\n",
      "data[i, 1] : non-real valued descriptor\n",
      "86 ['MDEC.33', 'VCH.7', 'VP.3', 'SP.0', 'SCH.7', 'VAdjMat', 'ATSp5', 'WTPT.1', 'tpsaEfficiency', 'MDEC.22', 'ATSp3', 'nSmallRings', 'nHBAcc', 'nHBDon', 'nAtomP', 'WTPT.3', 'SP.4', 'SP.3', 'nRings5', 'WPOL', 'FMF', 'C2SP3', 'SPC.4', 'nRingBlocks', 'nAtomLC', 'nAcid', 'SP.5', 'nB', 'MDEC.34', 'VC.4', 'VP.5', 'VP.2', 'SP.2', 'VC.5', 'SC.5', 'SC.6', 'WTPT.5', 'ATSm3', 'AMR', 'MDEO.11', 'VPC.4', 'bpol', 'MDEC.24', 'apol', 'VP.0', 'ATSm5', 'nRotB', 'ATSp4', 'Zagreb', 'VPC.6', 'SP.1', 'SC.4', 'ALogp2', 'MDEC.23', 'C3SP2', 'ATSm4', 'MW', 'SPC.5', 'VP.1', 'ATSp1', 'VP.6', 'VP.4', 'VC.3', 'C3SP3', 'VC.6', 'C2SP2', 'ATSm2', 'SCH.5', 'C1SP2', 'SPC.6', 'fragC', 'XLogP', 'SCH.6', 'VCH.5', 'WPATH', 'ATSp2', 'SC.3', 'MLogP', 'ALogP', 'VPC.5', 'ATSm1', 'ECCEN', 'WTPT.4', 'TopoPSA', 'VCH.6', 'SP.6']\n",
      "0.5461044660542731\n"
     ]
    }
   ],
   "source": [
    "\n",
    "\n",
    "#these properties are computed by running the R script compute_molecular_properites.R. \n",
    "goodCols_pred = RT_pred.get_good_desc(pred_props)\n",
    "preds = list(set(goodCols_train).intersection(set(goodCols_pred)))\n",
    "print(len(preds),preds)\n",
    "\n",
    "#train model and print cv r2\n",
    "nBest,mBest,max_depth = (100,51,200)\n",
    "\n",
    "if len(preds) < mBest:\n",
    "    mBest = len(preds)\n",
    "    \n",
    "print(RT_pred.crossValPrediction(training_data[preds].to_numpy(),training_data[\"RT\"].values,nBest,mBest,max_depth))\n",
    "RT_pred.fit(training_data[preds].to_numpy(),training_data[\"RT\"].values,nBest,mBest,max_depth)"
   ]
  },
  {
   "cell_type": "code",
   "execution_count": 10,
   "metadata": {
    "pycharm": {
     "is_executing": false,
     "name": "#%%\n"
    }
   },
   "outputs": [],
   "source": [
    "#predict RTs\n",
    "rt_predicted = RT_pred.predict(pred_props[preds].to_numpy())\n",
    "\n",
    "#get cpd names\n",
    "names = pred_props[pred_props.columns.values[-1]].values\n",
    "\n",
    "#output RTs\n",
    "pd.DataFrame.from_dict({n:{\"name\":n,\"RT\":rt} for n,rt in zip(names,rt_predicted)},orient=\"index\").to_csv(\"../data/example_predicted_rts.csv\",index=False)"
   ]
  },
  {
   "cell_type": "code",
   "execution_count": 11,
   "metadata": {
    "pycharm": {
     "name": "#%%\n"
    }
   },
   "outputs": [],
   "source": [
    "\n",
    "#predict RTs\n",
    "rt_predicted = RT_pred.predict(pred_props[preds].to_numpy())\n",
    "\n",
    "#get cpd names\n",
    "names = pred_props[pred_props.columns.values[-1]].values\n",
    "\n",
    "#output RTs\n",
    "pd.DataFrame.from_dict({n:{\"name\":n,\"RT\":rt} for n,rt in zip(names,rt_predicted)},orient=\"index\").to_csv(\"../data/example_predicted_rts.csv\",index=False)"
   ]
  },
  {
   "cell_type": "code",
   "execution_count": null,
   "metadata": {},
   "outputs": [],
   "source": []
  }
 ],
 "metadata": {
  "kernelspec": {
   "display_name": "Python 3",
   "language": "python",
   "name": "python3"
  },
  "language_info": {
   "codemirror_mode": {
    "name": "ipython",
    "version": 3
   },
   "file_extension": ".py",
   "mimetype": "text/x-python",
   "name": "python",
   "nbconvert_exporter": "python",
   "pygments_lexer": "ipython3",
   "version": "3.7.6"
  },
  "pycharm": {
   "stem_cell": {
    "cell_type": "raw",
    "metadata": {
     "collapsed": false
    },
    "source": []
   }
  }
 },
 "nbformat": 4,
 "nbformat_minor": 1
}