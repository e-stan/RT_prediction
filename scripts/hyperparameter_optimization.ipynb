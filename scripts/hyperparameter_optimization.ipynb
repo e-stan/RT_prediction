{
 "cells": [
  {
   "cell_type": "code",
   "execution_count": 1,
   "metadata": {
    "pycharm": {
     "is_executing": false
    }
   },
   "outputs": [],
   "source": [
    "from RT_prediction.RT_prediction import *\n",
    "from sklearn.model_selection import train_test_split\n",
    "import pickle as pkl\n",
    "import matplotlib.pyplot as plt\n",
    "from sklearn.utils import shuffle\n"
   ]
  },
  {
   "cell_type": "code",
   "execution_count": 2,
   "metadata": {
    "pycharm": {
     "is_executing": false,
     "name": "#%%\n"
    }
   },
   "outputs": [],
   "source": [
    "RT_pred = RT_predictor(n_jobs=20)"
   ]
  },
  {
   "cell_type": "code",
   "execution_count": 3,
   "metadata": {
    "pycharm": {
     "is_executing": false,
     "name": "#%%\n"
    }
   },
   "outputs": [],
   "source": [
    "data = RT_pred.get_training_data_pHILIC_IROA()"
   ]
  },
  {
   "cell_type": "code",
   "execution_count": 4,
   "metadata": {
    "pycharm": {
     "is_executing": false,
     "name": "#%%\n"
    }
   },
   "outputs": [
    {
     "name": "stdout",
     "output_type": "stream",
     "text": [
      "Unnamed: 0 : non-real valued descriptor\n",
      "Name : non-real valued descriptor\n",
      "121\n",
      "['XLogP', 'MW', 'LipinskiFailures', 'nRotB', 'MLogP', 'nAtomLAC', 'nAtomP', 'nAtomLC', 'nB', 'nBase', 'nAromBond', 'naAromAtom', 'ALogP', 'ALogp2', 'AMR', 'nAcid', 'nSmallRings', 'nAromRings', 'nRingBlocks', 'nAromBlocks', 'nRings3', 'nRings5', 'nRings6', 'tpsaEfficiency', 'Zagreb', 'WPATH', 'WPOL', 'WTPT.1', 'WTPT.3', 'WTPT.4', 'WTPT.5', 'VAdjMat', 'TopoPSA', 'topoShape', 'PetitjeanNumber', 'MDEC.11', 'MDEC.12', 'MDEC.13', 'MDEC.14', 'MDEC.22', 'MDEC.23', 'MDEC.24', 'MDEC.33', 'MDEC.34', 'MDEC.44', 'MDEO.11', 'MDEO.12', 'MDEO.22', 'MDEN.11', 'MDEN.12', 'MDEN.13', 'MDEN.22', 'MDEN.23', 'MDEN.33', 'fragC', 'FMF', 'ECCEN', 'SP.0', 'SP.1', 'SP.2', 'SP.3', 'SP.4', 'SP.5', 'SP.6', 'SP.7', 'VP.0', 'VP.1', 'VP.2', 'VP.3', 'VP.4', 'VP.5', 'VP.6', 'VP.7', 'SPC.4', 'SPC.5', 'SPC.6', 'VPC.4', 'VPC.5', 'VPC.6', 'SC.3', 'SC.4', 'SC.5', 'SC.6', 'VC.3', 'VC.4', 'VC.5', 'VC.6', 'SCH.3', 'SCH.4', 'SCH.5', 'SCH.6', 'SCH.7', 'VCH.3', 'VCH.4', 'VCH.5', 'VCH.6', 'VCH.7', 'C1SP1', 'C2SP1', 'C1SP2', 'C2SP2', 'C3SP2', 'C1SP3', 'C2SP3', 'C3SP3', 'C4SP3', 'ATSp1', 'ATSp2', 'ATSp3', 'ATSp4', 'ATSp5', 'ATSm1', 'ATSm2', 'ATSm3', 'ATSm4', 'ATSm5', 'nHBDon', 'nHBAcc', 'bpol', 'apol']\n"
     ]
    }
   ],
   "source": [
    "goodCols = RT_pred.get_good_desc(data)\n",
    "        \n",
    "print(len(goodCols))\n",
    "goodCols.remove(\"RT\")\n",
    "print(goodCols)\n"
   ]
  },
  {
   "cell_type": "code",
   "execution_count": 5,
   "metadata": {
    "pycharm": {
     "is_executing": false,
     "name": "#%%\n"
    }
   },
   "outputs": [],
   "source": [
    "X = data.loc[:,goodCols].to_numpy()\n",
    "y = data[\"RT\"].values"
   ]
  },
  {
   "cell_type": "code",
   "execution_count": 6,
   "metadata": {
    "pycharm": {
     "is_executing": false,
     "name": "#%%\n"
    }
   },
   "outputs": [],
   "source": [
    "X_train, X_test, y_train, y_test = train_test_split(X, y, test_size=0.20,random_state = 20)"
   ]
  },
  {
   "cell_type": "code",
   "execution_count": 13,
   "metadata": {
    "pycharm": {
     "is_executing": false,
     "name": "#%%\n"
    }
   },
   "outputs": [
    {
     "name": "stdout",
     "output_type": "stream",
     "text": [
      "1 1 1\n",
      "1 1 10\n",
      "1 1 100\n",
      "1 1 200\n",
      "1 14 1\n",
      "1 14 10\n",
      "1 14 100\n",
      "1 14 200\n",
      "1 27 1\n",
      "1 27 10\n",
      "1 27 100\n",
      "1 27 200\n",
      "1 40 1\n",
      "1 40 10\n",
      "1 40 100\n",
      "1 40 200\n",
      "1 53 1\n",
      "1 53 10\n",
      "1 53 100\n",
      "1 53 200\n",
      "1 67 1\n",
      "1 67 10\n",
      "1 67 100\n",
      "1 67 200\n",
      "1 80 1\n",
      "1 80 10\n",
      "1 80 100\n",
      "1 80 200\n",
      "1 93 1\n",
      "1 93 10\n",
      "1 93 100\n",
      "1 93 200\n",
      "1 106 1\n",
      "1 106 10\n",
      "1 106 100\n",
      "1 106 200\n",
      "1 120 1\n",
      "1 120 10\n",
      "1 120 100\n",
      "1 120 200\n",
      "10 1 1\n",
      "10 1 10\n",
      "10 1 100\n",
      "10 1 200\n",
      "10 14 1\n",
      "10 14 10\n",
      "10 14 100\n",
      "10 14 200\n",
      "10 27 1\n",
      "10 27 10\n",
      "10 27 100\n",
      "10 27 200\n",
      "10 40 1\n",
      "10 40 10\n",
      "10 40 100\n",
      "10 40 200\n",
      "10 53 1\n",
      "10 53 10\n",
      "10 53 100\n",
      "10 53 200\n",
      "10 67 1\n",
      "10 67 10\n",
      "10 67 100\n",
      "10 67 200\n",
      "10 80 1\n",
      "10 80 10\n",
      "10 80 100\n",
      "10 80 200\n",
      "10 93 1\n",
      "10 93 10\n",
      "10 93 100\n",
      "10 93 200\n",
      "10 106 1\n",
      "10 106 10\n",
      "10 106 100\n",
      "10 106 200\n",
      "10 120 1\n",
      "10 120 10\n",
      "10 120 100\n",
      "10 120 200\n",
      "100 1 1\n",
      "100 1 10\n",
      "100 1 100\n",
      "100 1 200\n",
      "100 14 1\n",
      "100 14 10\n",
      "100 14 100\n",
      "100 14 200\n",
      "100 27 1\n",
      "100 27 10\n",
      "100 27 100\n",
      "100 27 200\n",
      "100 40 1\n",
      "100 40 10\n",
      "100 40 100\n",
      "100 40 200\n",
      "100 53 1\n",
      "100 53 10\n",
      "100 53 100\n",
      "100 53 200\n",
      "100 67 1\n",
      "100 67 10\n",
      "100 67 100\n",
      "100 67 200\n",
      "100 80 1\n",
      "100 80 10\n",
      "100 80 100\n",
      "100 80 200\n",
      "100 93 1\n",
      "100 93 10\n",
      "100 93 100\n",
      "100 93 200\n",
      "100 106 1\n",
      "100 106 10\n",
      "100 106 100\n",
      "100 106 200\n",
      "100 120 1\n",
      "100 120 10\n",
      "100 120 100\n",
      "100 120 200\n",
      "500 1 1\n",
      "500 1 10\n",
      "500 1 100\n",
      "500 1 200\n",
      "500 14 1\n",
      "500 14 10\n",
      "500 14 100\n",
      "500 14 200\n",
      "500 27 1\n",
      "500 27 10\n",
      "500 27 100\n",
      "500 27 200\n",
      "500 40 1\n",
      "500 40 10\n",
      "500 40 100\n",
      "500 40 200\n",
      "500 53 1\n",
      "500 53 10\n",
      "500 53 100\n",
      "500 53 200\n",
      "500 67 1\n",
      "500 67 10\n",
      "500 67 100\n",
      "500 67 200\n",
      "500 80 1\n",
      "500 80 10\n",
      "500 80 100\n",
      "500 80 200\n",
      "500 93 1\n",
      "500 93 10\n",
      "500 93 100\n",
      "500 93 200\n",
      "500 106 1\n",
      "500 106 10\n",
      "500 106 100\n",
      "500 106 200\n",
      "500 120 1\n",
      "500 120 10\n",
      "500 120 100\n",
      "500 120 200\n"
     ]
    }
   ],
   "source": [
    "if __name__ == \"__main__\":\n",
    "    result = {}\n",
    "    num_trees_to_try = [1,10,100,500]\n",
    "    msToTry = [int(x) for x in np.linspace(1,len(X_train[0]),10)]\n",
    "    mds = [1,10,100,200]\n",
    "    \n",
    "    for nest in num_trees_to_try:\n",
    "        for m in msToTry:\n",
    "            for md in mds:\n",
    "                print(nest,m,md)\n",
    "                result[(nest,m,md)] = RT_pred.crossValPrediction(X_train,y_train,nest,m,md)"
   ]
  },
  {
   "cell_type": "code",
   "execution_count": 15,
   "metadata": {
    "pycharm": {
     "is_executing": false,
     "name": "#%%\n"
    }
   },
   "outputs": [
    {
     "name": "stdout",
     "output_type": "stream",
     "text": [
      "(100, 93, 100)\n"
     ]
    },
    {
     "data": {
      "text/plain": [
       "(array([ 2.,  0.,  1.,  3., 13., 28., 26.,  6.,  5., 76.]),\n",
       " array([-0.34377138, -0.24560197, -0.14743256, -0.04926315,  0.04890625,\n",
       "         0.14707566,  0.24524507,  0.34341447,  0.44158388,  0.53975329,\n",
       "         0.6379227 ]),\n",
       " <a list of 10 Patch objects>)"
      ]
     },
     "execution_count": 15,
     "metadata": {},
     "output_type": "execute_result"
    },
    {
     "data": {
      "image/png": "[encoded data removed]",
      "text/plain": [
       "<Figure size 432x288 with 1 Axes>"
      ]
     },
     "metadata": {
      "needs_background": "light"
     },
     "output_type": "display_data"
    }
   ],
   "source": [
    "pkl.dump(result,open(\"hyperparam_results.pkl\",\"wb\"))\n",
    "result = pkl.load(open(\"hyperparam_results.pkl\",\"rb\"))\n",
    "\n",
    "bestParams = list(result.keys())\n",
    "bestParams.sort(key=lambda x: result[x],reverse=True)\n",
    "print(bestParams[0])\n",
    "bestParams = bestParams[0]\n",
    "nBest = bestParams[0]\n",
    "mBest = bestParams[1]\n",
    "bestDepth = bestParams[2]\n",
    "plt.hist(result.values())\n",
    "#nBest,mBest,bestDepth = (100,51,200)\n"
   ]
  },
  {
   "cell_type": "code",
   "execution_count": 16,
   "metadata": {
    "pycharm": {
     "is_executing": false,
     "name": "#%%\n"
    }
   },
   "outputs": [],
   "source": [
    "y_pred_test = RT_pred.fit_predict(X_train,y_train,X_test,nBest,mBest,bestDepth)"
   ]
  },
  {
   "cell_type": "code",
   "execution_count": 17,
   "metadata": {
    "pycharm": {
     "is_executing": false,
     "name": "#%%\n"
    }
   },
   "outputs": [
    {
     "data": {
      "text/plain": [
       "Text(0.5, 1.0, 'training: 0.9355784216284079')"
      ]
     },
     "execution_count": 17,
     "metadata": {},
     "output_type": "execute_result"
    },
    {
     "data": {
      "image/png": "[encoded data removed]",
      "text/plain": [
       "<Figure size 432x288 with 1 Axes>"
      ]
     },
     "metadata": {
      "needs_background": "light"
     },
     "output_type": "display_data"
    },
    {
     "data": {
      "image/png": "[encoded data removed]",
      "text/plain": [
       "<Figure size 432x288 with 1 Axes>"
      ]
     },
     "metadata": {
      "needs_background": "light"
     },
     "output_type": "display_data"
    }
   ],
   "source": [
    "plt.scatter(y_test,y_pred_test)\n",
    "plt.title(\"testing :\" + str(r2_score(y_test, y_pred_test)))\n",
    "bestR2 = r2_score(y_test, y_pred_test)\n",
    "\n",
    "plt.figure()\n",
    "y_pred_train = RT_pred.predict(X_train)\n",
    "plt.scatter(y_train,y_pred_train)\n",
    "plt.title(\"training: \" +str(r2_score(y_train, y_pred_train)))"
   ]
  },
  {
   "cell_type": "code",
   "execution_count": 18,
   "metadata": {
    "pycharm": {
     "is_executing": false,
     "name": "#%%\n"
    }
   },
   "outputs": [],
   "source": [
    "r2s = []\n",
    "numIters = 100\n",
    "for x in range(numIters):\n",
    "    yTemp = shuffle(y_train)\n",
    "    y_pred = RT_pred.fit_predict(X_train,yTemp,X_test,nBest,mBest,bestDepth)\n",
    "    r2s.append(r2_score(y_test,y_pred))\n",
    "    "
   ]
  },
  {
   "cell_type": "code",
   "execution_count": 19,
   "metadata": {
    "pycharm": {
     "is_executing": false,
     "name": "#%%\n"
    }
   },
   "outputs": [
    {
     "name": "stderr",
     "output_type": "stream",
     "text": [
      "c:\\users\\ethan\\appdata\\local\\programs\\python\\python37\\lib\\site-packages\\ipykernel_launcher.py:1: MatplotlibDeprecationWarning: \n",
      "The 'normed' kwarg was deprecated in Matplotlib 2.1 and will be removed in 3.1. Use 'density' instead.\n",
      "  \"\"\"Entry point for launching an IPython kernel.\n"
     ]
    },
    {
     "data": {
      "text/plain": [
       "Text(0, 0.5, 'Frequency')"
      ]
     },
     "execution_count": 19,
     "metadata": {},
     "output_type": "execute_result"
    },
    {
     "data": {
      "image/png": "[encoded data removed]",
      "text/plain": [
       "<Figure size 432x288 with 1 Axes>"
      ]
     },
     "metadata": {
      "needs_background": "light"
     },
     "output_type": "display_data"
    }
   ],
   "source": [
    "plt.hist(r2s,normed=False)\n",
    "plt.plot([bestR2,bestR2],[0,100])\n",
    "plt.xlabel(\"R2\")\n",
    "plt.ylabel(\"Frequency\")"
   ]
  },
  {
   "cell_type": "code",
   "execution_count": null,
   "metadata": {
    "pycharm": {
     "name": "#%%\n"
    }
   },
   "outputs": [],
   "source": [
    "\n"
   ]
  }
 ],
 "metadata": {
  "kernelspec": {
   "display_name": "Python 3",
   "language": "python",
   "name": "python3"
  },
  "language_info": {
   "codemirror_mode": {
    "name": "ipython",
    "version": 3
   },
   "file_extension": ".py",
   "mimetype": "text/x-python",
   "name": "python",
   "nbconvert_exporter": "python",
   "pygments_lexer": "ipython3",
   "version": "3.7.6"
  },
  "pycharm": {
   "stem_cell": {
    "cell_type": "raw",
    "metadata": {
     "collapsed": false
    },
    "source": []
   }
  }
 },
 "nbformat": 4,
 "nbformat_minor": 1
}
